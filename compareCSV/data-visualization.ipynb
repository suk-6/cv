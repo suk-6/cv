{
 "cells": [
  {
   "cell_type": "code",
   "execution_count": null,
   "id": "3d678fd2-370e-41e1-a3fb-f5267ad8f647",
   "metadata": {},
   "outputs": [],
   "source": [
    "import pandas as pd\n",
    "import matplotlib.pyplot as plt"
   ]
  },
  {
   "cell_type": "code",
   "execution_count": null,
   "id": "6df6fe75-471b-46b4-90c1-3cb35e20e26b",
   "metadata": {},
   "outputs": [],
   "source": [
    "aihubResult = pd.read_csv('aihub_road1.csv')\n",
    "ourResult = pd.read_csv('240323-train-withcoco-yolo1.csv')"
   ]
  },
  {
   "cell_type": "code",
   "execution_count": null,
   "id": "a487735b-e9b4-47d0-99ce-c26a3129e021",
   "metadata": {},
   "outputs": [],
   "source": [
    "aihubResult = aihubResult[aihubResult['Class'] != \"all\"]\n",
    "ourResult = ourResult[ourResult['Class'] != \"all\"]"
   ]
  },
  {
   "cell_type": "code",
   "execution_count": null,
   "id": "b050c3d0-42a0-4119-83a6-1ea87c98e915",
   "metadata": {},
   "outputs": [],
   "source": [
    "aihubResult.set_index('Class', inplace=True)\n",
    "ourResult.set_index('Class', inplace=True)"
   ]
  },
  {
   "cell_type": "code",
   "execution_count": null,
   "id": "0e7b2a08-9175-4aa6-a200-1eaf100037bc",
   "metadata": {},
   "outputs": [],
   "source": [
    "aihubResultData = {}\n",
    "ourResultData = {}"
   ]
  },
  {
   "cell_type": "code",
   "execution_count": null,
   "id": "3518940c-47dd-457e-b3de-be9a844f3aff",
   "metadata": {},
   "outputs": [],
   "source": [
    "def calc():\n",
    "    global aihubResultData, ourResultData\n",
    "    aihubResultData = {\n",
    "        \"mAP50\": aihubResult.iloc[:, 4:5],\n",
    "        \"mAP5095\": aihubResult.iloc[:, 5:6],\n",
    "    }\n",
    "    aihubResultData[\"all\"] = {\n",
    "    \"mAP50\": aihubResultData[\"mAP50\"].mean().values[0],\n",
    "    \"mAP5095\": aihubResultData[\"mAP5095\"].mean().values[0]\n",
    "    }\n",
    "    ourResultData = {\n",
    "    \"mAP50\": ourResult.iloc[:, 4:5],\n",
    "    \"mAP5095\": ourResult.iloc[:, 5:6]\n",
    "    }\n",
    "    ourResultData[\"all\"] = {\n",
    "    \"mAP50\": ourResultData[\"mAP50\"].mean().values[0],\n",
    "    \"mAP5095\": ourResultData[\"mAP5095\"].mean().values[0]\n",
    "    }"
   ]
  },
  {
   "cell_type": "code",
   "execution_count": null,
   "id": "78648663-82f6-4418-a700-419f9caf0fd1",
   "metadata": {},
   "outputs": [],
   "source": [
    "calc()"
   ]
  },
  {
   "cell_type": "code",
   "execution_count": null,
   "id": "aa6c26ab-97bf-4400-91f2-f229f673b38f",
   "metadata": {},
   "outputs": [],
   "source": [
    "AmAP50 = aihubResultData[\"mAP50\"].plot(title='AIHub AP per class (mAP50)', xlabel='Class', ylabel='mAP50', kind='bar', ylim=[0, 1]).get_figure()\n",
    "AmAP50.savefig('AmAP50.png', bbox_inches='tight')"
   ]
  },
  {
   "cell_type": "code",
   "execution_count": null,
   "id": "c93c888a-65ae-41f6-b707-d0723bf10fa2",
   "metadata": {},
   "outputs": [],
   "source": [
    "AmAP5095 = aihubResultData[\"mAP5095\"].plot(title='AIHub AP per class (mAP50-95)', xlabel='Class', ylabel='mAP50-95', kind='bar', ylim=[0, 1]).get_figure()\n",
    "AmAP5095.savefig('AmAP5095.png', bbox_inches='tight')"
   ]
  },
  {
   "cell_type": "code",
   "execution_count": null,
   "id": "5312e326-0387-4b05-871c-cd0d5951aa74",
   "metadata": {},
   "outputs": [],
   "source": [
    "BmAP50 = ourResultData[\"mAP50\"].plot(title='Asseertive AP per class (mAP50)', xlabel='Class', ylabel='mAP50', kind='bar', ylim=[0, 1], figsize=(20,6)).get_figure()\n",
    "BmAP50.savefig('BmAP50.png', bbox_inches='tight')"
   ]
  },
  {
   "cell_type": "code",
   "execution_count": null,
   "id": "5af0507c-900f-45ab-9916-c878ee4b517b",
   "metadata": {},
   "outputs": [],
   "source": [
    "BmAP5095 = ourResultData[\"mAP5095\"].plot(title='Asseertive AP per class (mAP50-95)', xlabel='Class', ylabel='mAP50-95', kind='bar', ylim=[0, 1], figsize=(20,6)).get_figure()\n",
    "BmAP5095.savefig('BmAP5095.png', bbox_inches='tight')"
   ]
  },
  {
   "cell_type": "code",
   "execution_count": null,
   "id": "9fcc761a-b5b2-4d05-9ea4-bd1cd684180e",
   "metadata": {},
   "outputs": [],
   "source": [
    "ourResult = ourResult[ourResult['Instances'] > 35]\n",
    "calc()"
   ]
  },
  {
   "cell_type": "code",
   "execution_count": null,
   "id": "d7c064db-a3cb-46e9-a788-96ee20f503c3",
   "metadata": {},
   "outputs": [],
   "source": [
    "plt.bar(\n",
    "    ['AIHub mAP50', 'Asseertive mAP50', 'AIHub mAP50-95', 'Asseertive mAP50-95'],\n",
    "    [aihubResultData[\"all\"][\"mAP50\"], ourResultData[\"all\"][\"mAP50\"], aihubResultData[\"all\"][\"mAP5095\"], ourResultData[\"all\"][\"mAP5095\"]],\n",
    "    color=['blue', 'orange', 'blue', 'orange']\n",
    ")\n",
    "# plt.ylim([0, 1])\n",
    "plt.xticks(rotation=30, ha='right')\n",
    "plt.savefig('all.png', bbox_inches='tight')"
   ]
  },
  {
   "cell_type": "code",
   "execution_count": null,
   "id": "f5af6238-42ff-4346-a8d3-6a6db2dc16ce",
   "metadata": {},
   "outputs": [],
   "source": []
  }
 ],
 "metadata": {
  "kernelspec": {
   "display_name": "venv",
   "language": "python",
   "name": ".venv"
  },
  "language_info": {
   "codemirror_mode": {
    "name": "ipython",
    "version": 3
   },
   "file_extension": ".py",
   "mimetype": "text/x-python",
   "name": "python",
   "nbconvert_exporter": "python",
   "pygments_lexer": "ipython3",
   "version": "3.9.6"
  }
 },
 "nbformat": 4,
 "nbformat_minor": 5
}
